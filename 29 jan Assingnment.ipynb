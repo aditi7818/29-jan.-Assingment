{
 "cells": [
  {
   "cell_type": "code",
   "execution_count": null,
   "id": "bf6e3bc3-defb-4414-9e48-b72376d2fd9a",
   "metadata": {},
   "outputs": [],
   "source": [
    "Question: Who developed python programming language?\n",
    "Answer: Guido van Rossum. "
   ]
  },
  {
   "cell_type": "code",
   "execution_count": null,
   "id": "290dea0e-3af3-42a5-ab06-c90a00d3edf1",
   "metadata": {},
   "outputs": [],
   "source": [
    "Question: Which type of programming does python support?\n",
    "Answer: Python is an interpreted, object-oriented programing language."
   ]
  },
  {
   "cell_type": "code",
   "execution_count": null,
   "id": "5d4f45de-98d7-4cec-820c-1be5289e6b41",
   "metadata": {},
   "outputs": [],
   "source": [
    "Question: Is python case sensitive when dealing with identifiers?\n",
    "Answer: Yes, python is a case-senstive programming language."
   ]
  },
  {
   "cell_type": "code",
   "execution_count": null,
   "id": "10fc31a1-4ade-4fbf-95c5-3113b4429ad6",
   "metadata": {},
   "outputs": [],
   "source": [
    "Question: What is the correct extension of the python file?\n",
    "Answer: The .py, .pyc, .pyo and .pyd files have thier own significance when it comes to executing python programs. They are used for-\n",
    ".py: The input source code that you have written.\n",
    ".pyc: The compiled bytecode. if you import a module, python will build a *.pyc file that contains the bytecode to make importing it again later easier(and faster)\n",
    ".pyo: A*.pyc file that was created while optimizations (-o) was on.\n",
    ".pyd: A windows dll file for python."
   ]
  },
  {
   "cell_type": "code",
   "execution_count": null,
   "id": "20a83936-6c1b-4360-9017-03b1606b5315",
   "metadata": {},
   "outputs": [],
   "source": [
    "Questiom: is python code complied or interpreted?\n",
    "Answer:python is an interpreted language."
   ]
  },
  {
   "cell_type": "code",
   "execution_count": null,
   "id": "c6eb07bf-5a3e-45a7-a97e-d10e9f7f442f",
   "metadata": {},
   "outputs": [],
   "source": [
    "Question: Name a few blocks of code used to define in python language.\n",
    "Answer: a module, a function body, and a class defination."
   ]
  },
  {
   "cell_type": "code",
   "execution_count": null,
   "id": "6c3a7aef-3a28-4019-86fd-fb7771f83dee",
   "metadata": {},
   "outputs": [],
   "source": [
    "Question: State a character used to give single-line comments in python?\n",
    "Answer: comments in python are identified with a hash symbol,# \n",
    "and extend tothe end of the line."
   ]
  },
  {
   "cell_type": "code",
   "execution_count": null,
   "id": "25b2103b-56b5-461d-88b1-59e84b8d1c9f",
   "metadata": {},
   "outputs": [],
   "source": [
    "Question: Mention functions which can help us to find the version of python that we are currently working on?\n",
    "Answer: The function sys."
   ]
  },
  {
   "cell_type": "code",
   "execution_count": null,
   "id": "894eb075-a56b-4f8f-bf2d-3427e3dddb4d",
   "metadata": {},
   "outputs": [],
   "source": [
    "Question: Python supports the creation of anonymous function at runtime, using a construct called _ _ _ _ _.\n",
    "Anser: lambda"
   ]
  },
  {
   "cell_type": "code",
   "execution_count": null,
   "id": "21721fb7-90a6-480a-a35e-3abfd5b787dd",
   "metadata": {},
   "outputs": [],
   "source": [
    "Question: what does pip stand for python?\n",
    "Answer:\" peferred installer program\""
   ]
  },
  {
   "cell_type": "code",
   "execution_count": null,
   "id": "61a97f74-91dc-4d8b-81f0-f8658acfd789",
   "metadata": {},
   "outputs": [],
   "source": [
    "Question: Mention a few built-in functions in python?\n",
    "answer: len(), int(), float(), range(), max(), min(), sum(), open() and type()"
   ]
  },
  {
   "cell_type": "code",
   "execution_count": null,
   "id": "7cc490c5-216c-4e5b-847f-81eef353a39c",
   "metadata": {},
   "outputs": [],
   "source": [
    "Question: what is the maximum possible length of an identifier in python?\n",
    "Answer: 79 characters"
   ]
  },
  {
   "cell_type": "code",
   "execution_count": null,
   "id": "1ed48d7e-fd09-4825-b765-705a055977f2",
   "metadata": {},
   "outputs": [],
   "source": [
    "Question: what are the benifits of using python?\n",
    "Answer: improved productivity\n",
    "interpreted language\n",
    "dynamically typed \n",
    "free and online source\n",
    "vast libraries support"
   ]
  },
  {
   "cell_type": "code",
   "execution_count": null,
   "id": "a76051d2-60bc-4c42-8f5f-631d0c191ec8",
   "metadata": {},
   "outputs": [],
   "source": [
    "Question: how is memorary managed in python?\n",
    "Answer: Memorary manangment in python involves the managment of a private help."
   ]
  },
  {
   "cell_type": "code",
   "execution_count": null,
   "id": "fdcfbf46-dc61-4616-8dd8-cdf1022bd6b0",
   "metadata": {},
   "outputs": [],
   "source": [
    "Question: how to install python on windows and set path variables?\n",
    "Answer: 1. open a browser to python website and download the windows installer\n",
    "2. Double click on the downloaded file and install python for all users, and esure that python is added to your path. click on install now to begin.\n",
    "3. After the installation is complete, click disable path length limit and then close.\n",
    "4. click close to end the installation.\n",
    "\n",
    "The complete path of python.exe can be added by:\n",
    "    1. Right-clicking This PC and going to properties.\n",
    "    2. clicking on the advanced system settings in the menu on the left.\n",
    "    3. clicking on the enivorment variables button on the bottom right.\n",
    "    4. In the system variables section, selecting the path variable and clicking on edit. the next screen will show all the directories that are currently a part\n",
    "    of the PATH variable.\n",
    "    5. clicking on new and entering python's install directory."
   ]
  },
  {
   "cell_type": "code",
   "execution_count": null,
   "id": "6ece5a3f-90e9-4916-a97d-6b8fc52655a5",
   "metadata": {},
   "outputs": [],
   "source": [
    "Question: Is indentation required in python?\n",
    "Answer:"
   ]
  },
  {
   "cell_type": "code",
   "execution_count": null,
   "id": "fbf091e9-55ae-4fb4-b500-bfd97e37c053",
   "metadata": {},
   "outputs": [],
   "source": []
  },
  {
   "cell_type": "code",
   "execution_count": null,
   "id": "7a05f075-8806-497e-8326-33102708b8d5",
   "metadata": {},
   "outputs": [],
   "source": []
  }
 ],
 "metadata": {
  "kernelspec": {
   "display_name": "Python 3 (ipykernel)",
   "language": "python",
   "name": "python3"
  },
  "language_info": {
   "codemirror_mode": {
    "name": "ipython",
    "version": 3
   },
   "file_extension": ".py",
   "mimetype": "text/x-python",
   "name": "python",
   "nbconvert_exporter": "python",
   "pygments_lexer": "ipython3",
   "version": "3.10.8"
  }
 },
 "nbformat": 4,
 "nbformat_minor": 5
}
